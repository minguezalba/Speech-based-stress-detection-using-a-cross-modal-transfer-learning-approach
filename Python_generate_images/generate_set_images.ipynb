{
 "cells": [
  {
   "cell_type": "markdown",
   "metadata": {},
   "source": [
    "# Speech-based-stress-detection-using-a-cross-modal-transfer-learning-approach: Generating images from audio files"
   ]
  },
  {
   "cell_type": "code",
   "execution_count": 45,
   "metadata": {
    "pycharm": {
     "name": "#%%\n"
    }
   },
   "outputs": [],
   "source": [
    "from IPython.display import Audio\n",
    "import librosa\n",
    "import glob\n",
    "import time\n",
    "import librosa.display\n",
    "import matplotlib.pyplot as plt\n",
    "import numpy as np\n",
    "import pandas as pd"
   ]
  },
  {
   "cell_type": "code",
   "execution_count": 46,
   "metadata": {},
   "outputs": [],
   "source": [
    "SAMPLE_RATE = 16000\n",
    "DIR_AUDIOS = '../data/processed_audios/'\n",
    "DIR_IMAGES = '../data/images/'"
   ]
  },
  {
   "cell_type": "code",
   "execution_count": 47,
   "metadata": {},
   "outputs": [],
   "source": [
    "plt.ioff()"
   ]
  },
  {
   "cell_type": "markdown",
   "metadata": {},
   "source": [
    "## Reading directory files"
   ]
  },
  {
   "cell_type": "code",
   "execution_count": 48,
   "metadata": {},
   "outputs": [
    {
     "name": "stdout",
     "output_type": "stream",
     "text": [
      "Number audio files: 32\n"
     ]
    }
   ],
   "source": [
    "files_audios = [(f, (f.split('/')[-1]).split('.')[0]) for f in glob.glob(DIR_AUDIOS + \"*.wav\")]\n",
    "print(f'Number audio files: {len(files_audios)}')"
   ]
  },
  {
   "cell_type": "code",
   "execution_count": 49,
   "metadata": {},
   "outputs": [
    {
     "data": {
      "text/plain": [
       "[('../data/processed_audios/ID_852630991_baseline.wav',\n",
       "  'ID_852630991_baseline')]"
      ]
     },
     "execution_count": 49,
     "metadata": {},
     "output_type": "execute_result"
    }
   ],
   "source": [
    "files_audios_example = [files_audios[2]]\n",
    "files_audios_example"
   ]
  },
  {
   "cell_type": "code",
   "execution_count": 50,
   "metadata": {},
   "outputs": [],
   "source": [
    "n_fft = 256 # freq resolution\n",
    "hop_length = int(n_fft/2)\n",
    "\n",
    "n_mels = 20  # number of Mel bands to generate\n",
    "\n",
    "fmin = 50           \n",
    "fmax = sample_rate/2"
   ]
  },
  {
   "cell_type": "code",
   "execution_count": 55,
   "metadata": {},
   "outputs": [
    {
     "name": "stdout",
     "output_type": "stream",
     "text": [
      "File 1 / 1: ../data/processed_audios/ID_852630991_baseline.wav\n",
      "\t - Sample Rate   16000 Hz\n",
      "\t - Clip Length   112.00 seconds\n",
      "\t - Chunk 112 / 112: ../data/images/ID_852630991_baseline_111.png\n",
      "Execution time: 8.95 seconds\n"
     ]
    }
   ],
   "source": [
    "start = time.time()\n",
    "for i, file in enumerate(files_audios_example):\n",
    "    \n",
    "    path = file[0]\n",
    "    filename = file[1]\n",
    "    \n",
    "    print(f'File {i+1} / {len(files_audios_example)}: {path}')\n",
    "    \n",
    "    clip, sample_rate = librosa.load(path, sr=SAMPLE_RATE)\n",
    "    print('\\t - Sample Rate   {} Hz'.format(sample_rate))\n",
    "    print('\\t - Clip Length   {:3.2f} seconds'.format(len(clip)/sample_rate))\n",
    "    n_chunks = int(np.floor(len(clip)/sample_rate))\n",
    "\n",
    "    \n",
    "    for j in range(n_chunks):\n",
    "        \n",
    "        file_save = DIR_IMAGES+filename+'_'+str(j)+'.png'\n",
    "        \n",
    "        print('\\t - Chunk {} / {}: {}'.format(j+1, n_chunks, file_save), end='\\r', flush=True)\n",
    "        \n",
    "        #print(f'Chunk {j+1} / {n_chunks}: {file_save}', flush=True)\n",
    "        clip_chunk = clip[j*SAMPLE_RATE:(j+1)*SAMPLE_RATE]\n",
    "        \n",
    "        fig = plt.figure(figsize=(10, 10))\n",
    "\n",
    "        mel_spec = librosa.feature.melspectrogram(clip_chunk, n_fft=n_fft, hop_length=hop_length,\n",
    "                                                  n_mels=n_mels, sr=sample_rate, power=1.0,\n",
    "                                                  fmin=fmin, fmax=fmax)\n",
    "\n",
    "        mel_spec_db = librosa.amplitude_to_db(mel_spec, ref=np.max)\n",
    "        librosa.display.specshow(mel_spec_db, x_axis='ms',  y_axis='mel', \n",
    "                                 sr=sample_rate, hop_length=hop_length, \n",
    "                                 fmin=fmin, fmax=fmax)\n",
    "        plt.axis('off')\n",
    "        plt.savefig(file_save)\n",
    "        plt.close(fig)\n",
    "        \n",
    "\n",
    "print('\\n\\nExecution time: {:.2f} seconds'.format(time.time() - start))"
   ]
  },
  {
   "cell_type": "code",
   "execution_count": null,
   "metadata": {},
   "outputs": [],
   "source": []
  }
 ],
 "metadata": {
  "kernelspec": {
   "display_name": "Python 3",
   "language": "python",
   "name": "python3"
  },
  "language_info": {
   "codemirror_mode": {
    "name": "ipython",
    "version": 3
   },
   "file_extension": ".py",
   "mimetype": "text/x-python",
   "name": "python",
   "nbconvert_exporter": "python",
   "pygments_lexer": "ipython3",
   "version": "3.6.8"
  },
  "pycharm": {
   "stem_cell": {
    "cell_type": "raw",
    "metadata": {
     "collapsed": false
    },
    "source": [
     "ffff"
    ]
   }
  }
 },
 "nbformat": 4,
 "nbformat_minor": 2
}
